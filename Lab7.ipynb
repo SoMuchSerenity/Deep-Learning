{
  "nbformat": 4,
  "nbformat_minor": 0,
  "metadata": {
    "colab": {
      "name": "Lab7.ipynb",
      "provenance": [],
      "authorship_tag": "ABX9TyOYikKaOfK9edsOZzbyR26K",
      "include_colab_link": true
    },
    "kernelspec": {
      "name": "python3",
      "display_name": "Python 3"
    },
    "language_info": {
      "name": "python"
    }
  },
  "cells": [
    {
      "cell_type": "markdown",
      "metadata": {
        "id": "view-in-github",
        "colab_type": "text"
      },
      "source": [
        "<a href=\"https://colab.research.google.com/github/SoMuchSerenity/Deep-Learning/blob/main/Lab7.ipynb\" target=\"_parent\"><img src=\"https://colab.research.google.com/assets/colab-badge.svg\" alt=\"Open In Colab\"/></a>"
      ]
    },
    {
      "cell_type": "code",
      "execution_count": 1,
      "metadata": {
        "id": "2W4b0YpKTxmP"
      },
      "outputs": [],
      "source": [
        "from sklearn.datasets import fetch_california_housing\n",
        "from sklearn.model_selection import train_test_split\n",
        "from sklearn.preprocessing import StandardScaler\n",
        "\n",
        "housing = fetch_california_housing()\n",
        "\n",
        "X_train_full, X_test, y_train_full, y_test = train_test_split(housing.data, housing.target, random_state=42)\n",
        "X_train, X_valid, y_train, y_valid = train_test_split(X_train_full, y_train_full, random_state=42)\n",
        "\n",
        "scaler = StandardScaler()\n",
        "X_train = scaler.fit_transform(X_train)\n",
        "X_valid = scaler.transform(X_valid)\n",
        "X_test = scaler.transform(X_test)"
      ]
    },
    {
      "cell_type": "code",
      "source": [
        "X_train.shape"
      ],
      "metadata": {
        "colab": {
          "base_uri": "https://localhost:8080/"
        },
        "id": "iX_3H2UnUDsN",
        "outputId": "4877984b-f3f4-4851-9e26-b3b9d2c94c00"
      },
      "execution_count": 2,
      "outputs": [
        {
          "output_type": "execute_result",
          "data": {
            "text/plain": [
              "(11610, 8)"
            ]
          },
          "metadata": {},
          "execution_count": 2
        }
      ]
    },
    {
      "cell_type": "code",
      "source": [
        "X_train.shape[1:]"
      ],
      "metadata": {
        "colab": {
          "base_uri": "https://localhost:8080/"
        },
        "id": "knZNf0uQgLAM",
        "outputId": "7c1be0f7-2711-4f38-9ac4-e739fb6f34a6"
      },
      "execution_count": 18,
      "outputs": [
        {
          "output_type": "execute_result",
          "data": {
            "text/plain": [
              "(8,)"
            ]
          },
          "metadata": {},
          "execution_count": 18
        }
      ]
    },
    {
      "cell_type": "code",
      "source": [
        "X_train_full.shape"
      ],
      "metadata": {
        "colab": {
          "base_uri": "https://localhost:8080/"
        },
        "id": "0ClAvC6IdaGb",
        "outputId": "e1b10f88-cbeb-49b9-ab45-6217c5f8a367"
      },
      "execution_count": 9,
      "outputs": [
        {
          "output_type": "execute_result",
          "data": {
            "text/plain": [
              "(15480, 8)"
            ]
          },
          "metadata": {},
          "execution_count": 9
        }
      ]
    },
    {
      "cell_type": "code",
      "source": [
        "X_valid.shape"
      ],
      "metadata": {
        "colab": {
          "base_uri": "https://localhost:8080/"
        },
        "id": "Msvk4yfudciB",
        "outputId": "f34e9364-7344-4e71-b7c3-76d4c5eec8d4"
      },
      "execution_count": 10,
      "outputs": [
        {
          "output_type": "execute_result",
          "data": {
            "text/plain": [
              "(3870, 8)"
            ]
          },
          "metadata": {},
          "execution_count": 10
        }
      ]
    },
    {
      "cell_type": "code",
      "source": [
        "import numpy as np\n",
        "import tensorflow as tf\n",
        "from tensorflow import keras"
      ],
      "metadata": {
        "id": "W688SYBUULHf"
      },
      "execution_count": 7,
      "outputs": []
    },
    {
      "cell_type": "code",
      "source": [
        "np.random.seed(22)\n",
        "tf.random.set_seed(22)"
      ],
      "metadata": {
        "id": "qJLsMJkHUEHP"
      },
      "execution_count": 11,
      "outputs": []
    },
    {
      "cell_type": "code",
      "source": [
        "modelA = keras.models.Sequential([\n",
        "    keras.layers.Dense(30, activation=\"relu\", input_shape=X_train.shape[1:]),\n",
        "    keras.layers.Dense(1)\n",
        "])"
      ],
      "metadata": {
        "id": "DgK9JPfSlCrm"
      },
      "execution_count": 32,
      "outputs": []
    },
    {
      "cell_type": "code",
      "source": [
        "modelA.compile(loss=\"mse\", optimizer='rmsprop',metrics=['mae'])"
      ],
      "metadata": {
        "id": "qnc8FWr9lEnj"
      },
      "execution_count": 33,
      "outputs": []
    },
    {
      "cell_type": "code",
      "source": [
        "history = modelA.fit(X_train, y_train, epochs=20, batch_size = 30,validation_data=(X_valid, y_valid))"
      ],
      "metadata": {
        "colab": {
          "base_uri": "https://localhost:8080/"
        },
        "id": "DXtxIBo8lErQ",
        "outputId": "f80078e8-860b-4924-d58c-80217f9d2f08"
      },
      "execution_count": 34,
      "outputs": [
        {
          "output_type": "stream",
          "name": "stdout",
          "text": [
            "Epoch 1/20\n",
            "387/387 [==============================] - 2s 4ms/step - loss: 1.5811 - mae: 0.8923 - val_loss: 1.4412 - val_mae: 0.5935\n",
            "Epoch 2/20\n",
            "387/387 [==============================] - 1s 2ms/step - loss: 0.5229 - mae: 0.5199 - val_loss: 2.4002 - val_mae: 0.4966\n",
            "Epoch 3/20\n",
            "387/387 [==============================] - 1s 2ms/step - loss: 0.4447 - mae: 0.4675 - val_loss: 2.7492 - val_mae: 0.4823\n",
            "Epoch 4/20\n",
            "387/387 [==============================] - 1s 2ms/step - loss: 0.4167 - mae: 0.4516 - val_loss: 2.8734 - val_mae: 0.4802\n",
            "Epoch 5/20\n",
            "387/387 [==============================] - 1s 2ms/step - loss: 0.4044 - mae: 0.4438 - val_loss: 2.1906 - val_mae: 0.4635\n",
            "Epoch 6/20\n",
            "387/387 [==============================] - 1s 2ms/step - loss: 0.3967 - mae: 0.4376 - val_loss: 2.2187 - val_mae: 0.4622\n",
            "Epoch 7/20\n",
            "387/387 [==============================] - 1s 2ms/step - loss: 0.3894 - mae: 0.4338 - val_loss: 2.4556 - val_mae: 0.4600\n",
            "Epoch 8/20\n",
            "387/387 [==============================] - 1s 2ms/step - loss: 0.3816 - mae: 0.4299 - val_loss: 1.5723 - val_mae: 0.4466\n",
            "Epoch 9/20\n",
            "387/387 [==============================] - 1s 2ms/step - loss: 0.3763 - mae: 0.4266 - val_loss: 1.7350 - val_mae: 0.4502\n",
            "Epoch 10/20\n",
            "387/387 [==============================] - 1s 2ms/step - loss: 0.3728 - mae: 0.4238 - val_loss: 2.3750 - val_mae: 0.4468\n",
            "Epoch 11/20\n",
            "387/387 [==============================] - 1s 2ms/step - loss: 0.3677 - mae: 0.4211 - val_loss: 2.2625 - val_mae: 0.4465\n",
            "Epoch 12/20\n",
            "387/387 [==============================] - 1s 2ms/step - loss: 0.3635 - mae: 0.4199 - val_loss: 1.3556 - val_mae: 0.4306\n",
            "Epoch 13/20\n",
            "387/387 [==============================] - 1s 2ms/step - loss: 0.3569 - mae: 0.4175 - val_loss: 1.3019 - val_mae: 0.4336\n",
            "Epoch 14/20\n",
            "387/387 [==============================] - 1s 2ms/step - loss: 0.3610 - mae: 0.4156 - val_loss: 1.7447 - val_mae: 0.4378\n",
            "Epoch 15/20\n",
            "387/387 [==============================] - 1s 2ms/step - loss: 0.3577 - mae: 0.4138 - val_loss: 2.1798 - val_mae: 0.4412\n",
            "Epoch 16/20\n",
            "387/387 [==============================] - 1s 2ms/step - loss: 0.3633 - mae: 0.4122 - val_loss: 2.5832 - val_mae: 0.4527\n",
            "Epoch 17/20\n",
            "387/387 [==============================] - 1s 2ms/step - loss: 0.3635 - mae: 0.4116 - val_loss: 2.7431 - val_mae: 0.4449\n",
            "Epoch 18/20\n",
            "387/387 [==============================] - 1s 2ms/step - loss: 0.3560 - mae: 0.4099 - val_loss: 2.6137 - val_mae: 0.4414\n",
            "Epoch 19/20\n",
            "387/387 [==============================] - 1s 2ms/step - loss: 0.3614 - mae: 0.4093 - val_loss: 3.0808 - val_mae: 0.4422\n",
            "Epoch 20/20\n",
            "387/387 [==============================] - 1s 2ms/step - loss: 0.3542 - mae: 0.4085 - val_loss: 2.6201 - val_mae: 0.4430\n"
          ]
        }
      ]
    },
    {
      "cell_type": "code",
      "source": [
        "checkpoint_cb = keras.callbacks.ModelCheckpoint(\"my_keras_model.h5\",\n",
        " save_best_only=True)\n",
        "history = modelA.fit(X_train, y_train, epochs=20,\n",
        " validation_data=(X_valid, y_valid),\n",
        " callbacks=[checkpoint_cb])"
      ],
      "metadata": {
        "colab": {
          "base_uri": "https://localhost:8080/"
        },
        "id": "FRktMm7svTGR",
        "outputId": "084af8c0-ccdc-447b-a797-369398f3d132"
      },
      "execution_count": 62,
      "outputs": [
        {
          "output_type": "stream",
          "name": "stdout",
          "text": [
            "Epoch 1/20\n",
            "363/363 [==============================] - 1s 3ms/step - loss: 0.3587 - mae: 0.4064 - val_loss: 3.4694 - val_mae: 0.4456\n",
            "Epoch 2/20\n",
            "363/363 [==============================] - 1s 3ms/step - loss: 0.3593 - mae: 0.4047 - val_loss: 3.5731 - val_mae: 0.4458\n",
            "Epoch 3/20\n",
            "363/363 [==============================] - 1s 3ms/step - loss: 0.3562 - mae: 0.4035 - val_loss: 3.0551 - val_mae: 0.4424\n",
            "Epoch 4/20\n",
            "363/363 [==============================] - 1s 3ms/step - loss: 0.3499 - mae: 0.4030 - val_loss: 3.2611 - val_mae: 0.4409\n",
            "Epoch 5/20\n",
            "363/363 [==============================] - 1s 3ms/step - loss: 0.3456 - mae: 0.4017 - val_loss: 2.3448 - val_mae: 0.4331\n",
            "Epoch 6/20\n",
            "363/363 [==============================] - 2s 4ms/step - loss: 0.3471 - mae: 0.4006 - val_loss: 2.2821 - val_mae: 0.4326\n",
            "Epoch 7/20\n",
            "363/363 [==============================] - 2s 5ms/step - loss: 0.3443 - mae: 0.4001 - val_loss: 2.4223 - val_mae: 0.4303\n",
            "Epoch 8/20\n",
            "363/363 [==============================] - 2s 5ms/step - loss: 0.3413 - mae: 0.3988 - val_loss: 1.8698 - val_mae: 0.4216\n",
            "Epoch 9/20\n",
            "363/363 [==============================] - 1s 3ms/step - loss: 0.3387 - mae: 0.3970 - val_loss: 1.9636 - val_mae: 0.4293\n",
            "Epoch 10/20\n",
            "363/363 [==============================] - 1s 3ms/step - loss: 0.3370 - mae: 0.3964 - val_loss: 2.2271 - val_mae: 0.4217\n",
            "Epoch 11/20\n",
            "363/363 [==============================] - 1s 2ms/step - loss: 0.3320 - mae: 0.3954 - val_loss: 2.0128 - val_mae: 0.4200\n",
            "Epoch 12/20\n",
            "363/363 [==============================] - 1s 3ms/step - loss: 0.3264 - mae: 0.3949 - val_loss: 1.1749 - val_mae: 0.4065\n",
            "Epoch 13/20\n",
            "363/363 [==============================] - 1s 3ms/step - loss: 0.3243 - mae: 0.3937 - val_loss: 1.1987 - val_mae: 0.4100\n",
            "Epoch 14/20\n",
            "363/363 [==============================] - 1s 3ms/step - loss: 0.3282 - mae: 0.3932 - val_loss: 1.5186 - val_mae: 0.4144\n",
            "Epoch 15/20\n",
            "363/363 [==============================] - 1s 3ms/step - loss: 0.3280 - mae: 0.3924 - val_loss: 2.0496 - val_mae: 0.4192\n",
            "Epoch 16/20\n",
            "363/363 [==============================] - 1s 3ms/step - loss: 0.3357 - mae: 0.3932 - val_loss: 2.3284 - val_mae: 0.4274\n",
            "Epoch 17/20\n",
            "363/363 [==============================] - 1s 3ms/step - loss: 0.3360 - mae: 0.3919 - val_loss: 2.2460 - val_mae: 0.4224\n",
            "Epoch 18/20\n",
            "363/363 [==============================] - 1s 3ms/step - loss: 0.3289 - mae: 0.3912 - val_loss: 2.3563 - val_mae: 0.4219\n",
            "Epoch 19/20\n",
            "363/363 [==============================] - 1s 3ms/step - loss: 0.3368 - mae: 0.3909 - val_loss: 2.0647 - val_mae: 0.4174\n",
            "Epoch 20/20\n",
            "363/363 [==============================] - 1s 3ms/step - loss: 0.3332 - mae: 0.3915 - val_loss: 2.3879 - val_mae: 0.4235\n"
          ]
        }
      ]
    },
    {
      "cell_type": "code",
      "source": [
        "modelA = keras.models.load_model(\"my_keras_model.h5\") "
      ],
      "metadata": {
        "id": "xA4uzctgve4b"
      },
      "execution_count": 63,
      "outputs": []
    },
    {
      "cell_type": "code",
      "source": [
        "modelA"
      ],
      "metadata": {
        "colab": {
          "base_uri": "https://localhost:8080/"
        },
        "id": "Maw3IICLvwSM",
        "outputId": "302f23fc-89e9-409e-9429-d2cdb9f0344b"
      },
      "execution_count": 64,
      "outputs": [
        {
          "output_type": "execute_result",
          "data": {
            "text/plain": [
              "<keras.engine.sequential.Sequential at 0x7fc3c44bf350>"
            ]
          },
          "metadata": {},
          "execution_count": 64
        }
      ]
    },
    {
      "cell_type": "code",
      "source": [
        "modelB = keras.models.Sequential([\n",
        "    keras.layers.Dense(50, activation=\"relu\", input_shape=X_train.shape[1:]),\n",
        "    keras.layers.Dense(30, activation=\"relu\"), \n",
        "    keras.layers.Dense(1)\n",
        "])"
      ],
      "metadata": {
        "id": "B_0CT34_UEOJ"
      },
      "execution_count": 65,
      "outputs": []
    },
    {
      "cell_type": "code",
      "source": [
        "modelB.compile(loss=\"mse\", optimizer='rmsprop',metrics=['mae'])"
      ],
      "metadata": {
        "id": "a-DdYKPBeQLv"
      },
      "execution_count": 66,
      "outputs": []
    },
    {
      "cell_type": "code",
      "source": [
        "history = modelB.fit(X_train, y_train, epochs=20, batch_size = 30,validation_data=(X_valid, y_valid))"
      ],
      "metadata": {
        "colab": {
          "base_uri": "https://localhost:8080/"
        },
        "id": "5AL7ro1bfGSd",
        "outputId": "2efd6f82-f414-4960-e2ae-125c8e0dbc03"
      },
      "execution_count": 67,
      "outputs": [
        {
          "output_type": "stream",
          "name": "stdout",
          "text": [
            "Epoch 1/20\n",
            "387/387 [==============================] - 1s 2ms/step - loss: 0.8312 - mae: 0.6200 - val_loss: 2.9538 - val_mae: 0.4995\n",
            "Epoch 2/20\n",
            "387/387 [==============================] - 1s 2ms/step - loss: 0.4648 - mae: 0.4564 - val_loss: 7.6947 - val_mae: 0.5034\n",
            "Epoch 3/20\n",
            "387/387 [==============================] - 1s 2ms/step - loss: 0.4248 - mae: 0.4341 - val_loss: 6.5983 - val_mae: 0.4992\n",
            "Epoch 4/20\n",
            "387/387 [==============================] - 1s 2ms/step - loss: 0.3991 - mae: 0.4225 - val_loss: 5.8182 - val_mae: 0.4671\n",
            "Epoch 5/20\n",
            "387/387 [==============================] - 1s 4ms/step - loss: 0.3836 - mae: 0.4156 - val_loss: 3.6778 - val_mae: 0.4478\n",
            "Epoch 6/20\n",
            "387/387 [==============================] - 2s 4ms/step - loss: 0.3713 - mae: 0.4081 - val_loss: 3.6408 - val_mae: 0.4471\n",
            "Epoch 7/20\n",
            "387/387 [==============================] - 2s 4ms/step - loss: 0.3543 - mae: 0.4046 - val_loss: 2.3463 - val_mae: 0.4263\n",
            "Epoch 8/20\n",
            "387/387 [==============================] - 1s 3ms/step - loss: 0.3412 - mae: 0.3994 - val_loss: 1.5192 - val_mae: 0.4081\n",
            "Epoch 9/20\n",
            "387/387 [==============================] - 1s 4ms/step - loss: 0.3267 - mae: 0.3950 - val_loss: 1.6903 - val_mae: 0.4322\n",
            "Epoch 10/20\n",
            "387/387 [==============================] - 1s 3ms/step - loss: 0.3288 - mae: 0.3919 - val_loss: 1.6705 - val_mae: 0.4052\n",
            "Epoch 11/20\n",
            "387/387 [==============================] - 1s 2ms/step - loss: 0.3184 - mae: 0.3884 - val_loss: 1.6955 - val_mae: 0.4046\n",
            "Epoch 12/20\n",
            "387/387 [==============================] - 1s 2ms/step - loss: 0.3139 - mae: 0.3857 - val_loss: 1.2119 - val_mae: 0.4054\n",
            "Epoch 13/20\n",
            "387/387 [==============================] - 1s 2ms/step - loss: 0.3076 - mae: 0.3848 - val_loss: 0.6637 - val_mae: 0.3901\n",
            "Epoch 14/20\n",
            "387/387 [==============================] - 1s 2ms/step - loss: 0.3115 - mae: 0.3820 - val_loss: 0.7200 - val_mae: 0.3894\n",
            "Epoch 15/20\n",
            "387/387 [==============================] - 1s 2ms/step - loss: 0.3024 - mae: 0.3788 - val_loss: 1.1840 - val_mae: 0.3983\n",
            "Epoch 16/20\n",
            "387/387 [==============================] - 1s 2ms/step - loss: 0.3109 - mae: 0.3801 - val_loss: 1.0340 - val_mae: 0.3937\n",
            "Epoch 17/20\n",
            "387/387 [==============================] - 1s 2ms/step - loss: 0.3038 - mae: 0.3772 - val_loss: 0.6383 - val_mae: 0.3905\n",
            "Epoch 18/20\n",
            "387/387 [==============================] - 1s 2ms/step - loss: 0.2946 - mae: 0.3756 - val_loss: 0.9391 - val_mae: 0.3893\n",
            "Epoch 19/20\n",
            "387/387 [==============================] - 1s 2ms/step - loss: 0.3059 - mae: 0.3749 - val_loss: 0.9142 - val_mae: 0.3890\n",
            "Epoch 20/20\n",
            "387/387 [==============================] - 1s 2ms/step - loss: 0.2949 - mae: 0.3752 - val_loss: 0.5819 - val_mae: 0.3812\n"
          ]
        }
      ]
    },
    {
      "cell_type": "code",
      "source": [
        "modelB.save('D:\\Jupyter Notebooks\\CS985 Assignment2\\test_model.h5')"
      ],
      "metadata": {
        "id": "gR8RWDSQxgxe"
      },
      "execution_count": 68,
      "outputs": []
    },
    {
      "cell_type": "code",
      "source": [
        "modelC = keras.models.Sequential([\n",
        "    keras.layers.Dense(50, activation=\"relu\", input_shape=X_train.shape[1:]),\n",
        "    keras.layers.Dense(30, activation=\"relu\"), \n",
        "    keras.layers.Dense(15, activation=\"relu\"), \n",
        "    keras.layers.Dense(1)\n",
        "])"
      ],
      "metadata": {
        "id": "eifawnfPlxXx"
      },
      "execution_count": 41,
      "outputs": []
    },
    {
      "cell_type": "code",
      "source": [
        "modelC.compile(loss=\"mse\", optimizer='rmsprop',metrics=['mae'])"
      ],
      "metadata": {
        "id": "09vOmpeClxcJ"
      },
      "execution_count": 42,
      "outputs": []
    },
    {
      "cell_type": "code",
      "source": [
        "history = modelC.fit(X_train, y_train, epochs=20, batch_size = 30,validation_data=(X_valid, y_valid))"
      ],
      "metadata": {
        "colab": {
          "base_uri": "https://localhost:8080/"
        },
        "id": "9fbwAzxolxf-",
        "outputId": "380eb499-5c19-4d2a-aa11-8f043e8f4494"
      },
      "execution_count": 43,
      "outputs": [
        {
          "output_type": "stream",
          "name": "stdout",
          "text": [
            "Epoch 1/20\n",
            "387/387 [==============================] - 2s 3ms/step - loss: 0.7663 - mae: 0.5910 - val_loss: 3.1949 - val_mae: 0.4733\n",
            "Epoch 2/20\n",
            "387/387 [==============================] - 1s 2ms/step - loss: 0.4086 - mae: 0.4370 - val_loss: 2.5736 - val_mae: 0.4532\n",
            "Epoch 3/20\n",
            "387/387 [==============================] - 1s 2ms/step - loss: 0.3656 - mae: 0.4199 - val_loss: 2.3942 - val_mae: 0.4610\n",
            "Epoch 4/20\n",
            "387/387 [==============================] - 1s 2ms/step - loss: 0.3491 - mae: 0.4103 - val_loss: 1.2796 - val_mae: 0.4122\n",
            "Epoch 5/20\n",
            "387/387 [==============================] - 1s 2ms/step - loss: 0.3406 - mae: 0.4042 - val_loss: 0.8768 - val_mae: 0.4113\n",
            "Epoch 6/20\n",
            "387/387 [==============================] - 1s 2ms/step - loss: 0.3378 - mae: 0.3986 - val_loss: 0.8794 - val_mae: 0.4036\n",
            "Epoch 7/20\n",
            "387/387 [==============================] - 1s 2ms/step - loss: 0.3253 - mae: 0.3948 - val_loss: 0.9966 - val_mae: 0.4023\n",
            "Epoch 8/20\n",
            "387/387 [==============================] - 1s 2ms/step - loss: 0.3160 - mae: 0.3897 - val_loss: 0.2901 - val_mae: 0.3705\n",
            "Epoch 9/20\n",
            "387/387 [==============================] - 1s 2ms/step - loss: 0.3059 - mae: 0.3856 - val_loss: 0.3258 - val_mae: 0.3909\n",
            "Epoch 10/20\n",
            "387/387 [==============================] - 1s 2ms/step - loss: 0.3068 - mae: 0.3823 - val_loss: 0.5716 - val_mae: 0.3809\n",
            "Epoch 11/20\n",
            "387/387 [==============================] - 1s 2ms/step - loss: 0.2977 - mae: 0.3791 - val_loss: 0.4984 - val_mae: 0.3762\n",
            "Epoch 12/20\n",
            "387/387 [==============================] - 1s 2ms/step - loss: 0.2958 - mae: 0.3762 - val_loss: 0.2795 - val_mae: 0.3664\n",
            "Epoch 13/20\n",
            "387/387 [==============================] - 1s 2ms/step - loss: 0.2920 - mae: 0.3744 - val_loss: 0.5420 - val_mae: 0.3780\n",
            "Epoch 14/20\n",
            "387/387 [==============================] - 1s 2ms/step - loss: 0.2951 - mae: 0.3728 - val_loss: 0.2852 - val_mae: 0.3638\n",
            "Epoch 15/20\n",
            "387/387 [==============================] - 1s 2ms/step - loss: 0.2865 - mae: 0.3696 - val_loss: 2.2315 - val_mae: 0.4000\n",
            "Epoch 16/20\n",
            "387/387 [==============================] - 1s 2ms/step - loss: 0.3033 - mae: 0.3705 - val_loss: 0.4295 - val_mae: 0.3713\n",
            "Epoch 17/20\n",
            "387/387 [==============================] - 1s 2ms/step - loss: 0.2909 - mae: 0.3676 - val_loss: 0.3347 - val_mae: 0.3707\n",
            "Epoch 18/20\n",
            "387/387 [==============================] - 1s 2ms/step - loss: 0.2811 - mae: 0.3652 - val_loss: 0.2868 - val_mae: 0.3640\n",
            "Epoch 19/20\n",
            "387/387 [==============================] - 1s 2ms/step - loss: 0.2807 - mae: 0.3648 - val_loss: 0.2788 - val_mae: 0.3585\n",
            "Epoch 20/20\n",
            "387/387 [==============================] - 1s 2ms/step - loss: 0.2766 - mae: 0.3632 - val_loss: 0.4597 - val_mae: 0.3637\n"
          ]
        }
      ]
    },
    {
      "cell_type": "code",
      "source": [
        "modelD = keras.models.Sequential([\n",
        "    keras.layers.Dense(30, activation=\"sigmoid\", input_shape=X_train.shape[1:]),\n",
        "    keras.layers.Dense(1)\n",
        "])"
      ],
      "metadata": {
        "id": "ElJf-cS6fH1E"
      },
      "execution_count": 47,
      "outputs": []
    },
    {
      "cell_type": "code",
      "source": [
        "modelD.compile(loss=\"mean_squared_error\", optimizer='rmsprop',metrics = ['mae'])"
      ],
      "metadata": {
        "id": "jc_8u0hDgDQR"
      },
      "execution_count": 51,
      "outputs": []
    },
    {
      "cell_type": "code",
      "source": [
        "history = modelD.fit(X_train, y_train, epochs=20, batch_size = 30,validation_data=(X_valid, y_valid))"
      ],
      "metadata": {
        "colab": {
          "base_uri": "https://localhost:8080/"
        },
        "id": "KPWOmxC5gDcI",
        "outputId": "2d3ede8e-b417-4113-ca2b-6c15f515bb85"
      },
      "execution_count": 52,
      "outputs": [
        {
          "output_type": "stream",
          "name": "stdout",
          "text": [
            "Epoch 1/20\n",
            "387/387 [==============================] - 1s 2ms/step - loss: 1.1749 - mae: 0.7935 - val_loss: 0.5483 - val_mae: 0.5561\n",
            "Epoch 2/20\n",
            "387/387 [==============================] - 1s 2ms/step - loss: 0.5255 - mae: 0.5347 - val_loss: 0.4609 - val_mae: 0.4877\n",
            "Epoch 3/20\n",
            "387/387 [==============================] - 1s 3ms/step - loss: 0.4748 - mae: 0.5023 - val_loss: 0.4373 - val_mae: 0.4792\n",
            "Epoch 4/20\n",
            "387/387 [==============================] - 1s 3ms/step - loss: 0.4597 - mae: 0.4941 - val_loss: 0.4251 - val_mae: 0.4776\n",
            "Epoch 5/20\n",
            "387/387 [==============================] - 1s 2ms/step - loss: 0.4518 - mae: 0.4903 - val_loss: 0.4122 - val_mae: 0.4720\n",
            "Epoch 6/20\n",
            "387/387 [==============================] - 1s 2ms/step - loss: 0.4464 - mae: 0.4872 - val_loss: 0.4051 - val_mae: 0.4644\n",
            "Epoch 7/20\n",
            "387/387 [==============================] - 1s 2ms/step - loss: 0.4415 - mae: 0.4844 - val_loss: 0.4024 - val_mae: 0.4663\n",
            "Epoch 8/20\n",
            "387/387 [==============================] - 1s 2ms/step - loss: 0.4375 - mae: 0.4825 - val_loss: 0.3981 - val_mae: 0.4567\n",
            "Epoch 9/20\n",
            "387/387 [==============================] - 1s 2ms/step - loss: 0.4332 - mae: 0.4796 - val_loss: 0.3932 - val_mae: 0.4575\n",
            "Epoch 10/20\n",
            "387/387 [==============================] - 1s 2ms/step - loss: 0.4284 - mae: 0.4764 - val_loss: 0.3890 - val_mae: 0.4528\n",
            "Epoch 11/20\n",
            "387/387 [==============================] - 1s 2ms/step - loss: 0.4247 - mae: 0.4741 - val_loss: 0.3879 - val_mae: 0.4558\n",
            "Epoch 12/20\n",
            "387/387 [==============================] - 1s 2ms/step - loss: 0.4205 - mae: 0.4712 - val_loss: 0.3821 - val_mae: 0.4455\n",
            "Epoch 13/20\n",
            "387/387 [==============================] - 1s 2ms/step - loss: 0.4166 - mae: 0.4683 - val_loss: 0.3819 - val_mae: 0.4470\n",
            "Epoch 14/20\n",
            "387/387 [==============================] - 1s 2ms/step - loss: 0.4132 - mae: 0.4656 - val_loss: 0.3771 - val_mae: 0.4455\n",
            "Epoch 15/20\n",
            "387/387 [==============================] - 1s 2ms/step - loss: 0.4096 - mae: 0.4630 - val_loss: 0.3741 - val_mae: 0.4423\n",
            "Epoch 16/20\n",
            "387/387 [==============================] - 1s 2ms/step - loss: 0.4057 - mae: 0.4599 - val_loss: 0.3776 - val_mae: 0.4517\n",
            "Epoch 17/20\n",
            "387/387 [==============================] - 1s 2ms/step - loss: 0.4025 - mae: 0.4572 - val_loss: 0.3683 - val_mae: 0.4386\n",
            "Epoch 18/20\n",
            "387/387 [==============================] - 1s 3ms/step - loss: 0.3993 - mae: 0.4553 - val_loss: 0.3660 - val_mae: 0.4367\n",
            "Epoch 19/20\n",
            "387/387 [==============================] - 1s 3ms/step - loss: 0.3967 - mae: 0.4530 - val_loss: 0.3622 - val_mae: 0.4297\n",
            "Epoch 20/20\n",
            "387/387 [==============================] - 1s 3ms/step - loss: 0.3930 - mae: 0.4504 - val_loss: 0.3636 - val_mae: 0.4354\n"
          ]
        }
      ]
    },
    {
      "cell_type": "code",
      "source": [
        "modelE = keras.models.Sequential([\n",
        "    keras.layers.Dense(30, activation=\"LeakyReLU\", input_shape=X_train.shape[1:]),\n",
        "    keras.layers.Dense(1)\n",
        "])"
      ],
      "metadata": {
        "id": "ZKbkELSWgDfg"
      },
      "execution_count": 53,
      "outputs": []
    },
    {
      "cell_type": "code",
      "source": [
        "modelE.compile(loss=\"mean_squared_error\", optimizer='rmsprop', metrics = ['mae'])"
      ],
      "metadata": {
        "id": "jhEThQwGgDiO"
      },
      "execution_count": 54,
      "outputs": []
    },
    {
      "cell_type": "code",
      "source": [
        "history = modelE.fit(X_train, y_train, epochs=20, batch_size = 30,validation_data=(X_valid, y_valid))"
      ],
      "metadata": {
        "colab": {
          "base_uri": "https://localhost:8080/"
        },
        "id": "PEeKGj7CgqlO",
        "outputId": "7fe31285-704f-4a99-da87-93de6765fc58"
      },
      "execution_count": 55,
      "outputs": [
        {
          "output_type": "stream",
          "name": "stdout",
          "text": [
            "Epoch 1/20\n",
            "387/387 [==============================] - 1s 3ms/step - loss: 1.1275 - mae: 0.7550 - val_loss: 5.8161 - val_mae: 0.5536\n",
            "Epoch 2/20\n",
            "387/387 [==============================] - 1s 2ms/step - loss: 0.5121 - mae: 0.4947 - val_loss: 3.4195 - val_mae: 0.5087\n",
            "Epoch 3/20\n",
            "387/387 [==============================] - 1s 2ms/step - loss: 0.4652 - mae: 0.4766 - val_loss: 2.4870 - val_mae: 0.4905\n",
            "Epoch 4/20\n",
            "387/387 [==============================] - 1s 2ms/step - loss: 0.4478 - mae: 0.4677 - val_loss: 1.5648 - val_mae: 0.4777\n",
            "Epoch 5/20\n",
            "387/387 [==============================] - 1s 2ms/step - loss: 0.4295 - mae: 0.4615 - val_loss: 1.0380 - val_mae: 0.4614\n",
            "Epoch 6/20\n",
            "387/387 [==============================] - 1s 2ms/step - loss: 0.4117 - mae: 0.4548 - val_loss: 0.8213 - val_mae: 0.4576\n",
            "Epoch 7/20\n",
            "387/387 [==============================] - 1s 2ms/step - loss: 0.4011 - mae: 0.4502 - val_loss: 0.3734 - val_mae: 0.4362\n",
            "Epoch 8/20\n",
            "387/387 [==============================] - 1s 2ms/step - loss: 0.3947 - mae: 0.4457 - val_loss: 0.3907 - val_mae: 0.4355\n",
            "Epoch 9/20\n",
            "387/387 [==============================] - 1s 2ms/step - loss: 0.3891 - mae: 0.4425 - val_loss: 0.4092 - val_mae: 0.4362\n",
            "Epoch 10/20\n",
            "387/387 [==============================] - 1s 2ms/step - loss: 0.3855 - mae: 0.4394 - val_loss: 1.1416 - val_mae: 0.4458\n",
            "Epoch 11/20\n",
            "387/387 [==============================] - 1s 2ms/step - loss: 0.3835 - mae: 0.4366 - val_loss: 1.0701 - val_mae: 0.4450\n",
            "Epoch 12/20\n",
            "387/387 [==============================] - 1s 2ms/step - loss: 0.3801 - mae: 0.4354 - val_loss: 0.9773 - val_mae: 0.4402\n",
            "Epoch 13/20\n",
            "387/387 [==============================] - 1s 2ms/step - loss: 0.3811 - mae: 0.4335 - val_loss: 1.0951 - val_mae: 0.4450\n",
            "Epoch 14/20\n",
            "387/387 [==============================] - 1s 2ms/step - loss: 0.3795 - mae: 0.4314 - val_loss: 1.1647 - val_mae: 0.4461\n",
            "Epoch 15/20\n",
            "387/387 [==============================] - 1s 2ms/step - loss: 0.3751 - mae: 0.4298 - val_loss: 2.0465 - val_mae: 0.4516\n",
            "Epoch 16/20\n",
            "387/387 [==============================] - 1s 2ms/step - loss: 0.3856 - mae: 0.4292 - val_loss: 2.0843 - val_mae: 0.4573\n",
            "Epoch 17/20\n",
            "387/387 [==============================] - 1s 2ms/step - loss: 0.3863 - mae: 0.4278 - val_loss: 2.4076 - val_mae: 0.4536\n",
            "Epoch 18/20\n",
            "387/387 [==============================] - 1s 2ms/step - loss: 0.3756 - mae: 0.4260 - val_loss: 2.6154 - val_mae: 0.4540\n",
            "Epoch 19/20\n",
            "387/387 [==============================] - 1s 2ms/step - loss: 0.3932 - mae: 0.4260 - val_loss: 2.6995 - val_mae: 0.4519\n",
            "Epoch 20/20\n",
            "387/387 [==============================] - 1s 2ms/step - loss: 0.3818 - mae: 0.4246 - val_loss: 2.8455 - val_mae: 0.4561\n"
          ]
        }
      ]
    },
    {
      "cell_type": "code",
      "source": [
        "modelF = keras.models.Sequential([\n",
        "    keras.layers.Dense(50, activation=\"ELU\", input_shape=X_train.shape[1:]),\n",
        "    keras.layers.Dense(30, activation=\"ELU\"), \n",
        "])"
      ],
      "metadata": {
        "id": "XqUJcBqTnjvM"
      },
      "execution_count": 59,
      "outputs": []
    },
    {
      "cell_type": "code",
      "source": [
        "modelF.compile(loss=\"mean_squared_error\", optimizer='rmsprop', metrics = ['mae'])"
      ],
      "metadata": {
        "id": "b9a2Sj-Snj0_"
      },
      "execution_count": 60,
      "outputs": []
    },
    {
      "cell_type": "code",
      "source": [
        "history = modelF.fit(X_train, y_train, epochs=20, batch_size = 30,validation_data=(X_valid, y_valid))"
      ],
      "metadata": {
        "colab": {
          "base_uri": "https://localhost:8080/"
        },
        "id": "rBSItXHJnj3W",
        "outputId": "2c3b6f6f-77d0-46b8-ad2f-d9deecded250"
      },
      "execution_count": 61,
      "outputs": [
        {
          "output_type": "stream",
          "name": "stdout",
          "text": [
            "Epoch 1/20\n",
            "387/387 [==============================] - 1s 2ms/step - loss: 1.7313 - mae: 0.9612 - val_loss: 0.4972 - val_mae: 0.5016\n",
            "Epoch 2/20\n",
            "387/387 [==============================] - 1s 2ms/step - loss: 0.4820 - mae: 0.5042 - val_loss: 0.4878 - val_mae: 0.4795\n",
            "Epoch 3/20\n",
            "387/387 [==============================] - 1s 2ms/step - loss: 0.4622 - mae: 0.4938 - val_loss: 0.5823 - val_mae: 0.4780\n",
            "Epoch 4/20\n",
            "387/387 [==============================] - 1s 2ms/step - loss: 0.4522 - mae: 0.4888 - val_loss: 1.0203 - val_mae: 0.4867\n",
            "Epoch 5/20\n",
            "387/387 [==============================] - 1s 2ms/step - loss: 0.4537 - mae: 0.4855 - val_loss: 1.5781 - val_mae: 0.4898\n",
            "Epoch 6/20\n",
            "387/387 [==============================] - 1s 2ms/step - loss: 0.4541 - mae: 0.4809 - val_loss: 2.6066 - val_mae: 0.4958\n",
            "Epoch 7/20\n",
            "387/387 [==============================] - 1s 2ms/step - loss: 0.4579 - mae: 0.4774 - val_loss: 4.0074 - val_mae: 0.5051\n",
            "Epoch 8/20\n",
            "387/387 [==============================] - 1s 2ms/step - loss: 0.4489 - mae: 0.4738 - val_loss: 2.9499 - val_mae: 0.4890\n",
            "Epoch 9/20\n",
            "387/387 [==============================] - 1s 2ms/step - loss: 0.4453 - mae: 0.4699 - val_loss: 4.1901 - val_mae: 0.4990\n",
            "Epoch 10/20\n",
            "387/387 [==============================] - 1s 2ms/step - loss: 0.4496 - mae: 0.4662 - val_loss: 5.6698 - val_mae: 0.5008\n",
            "Epoch 11/20\n",
            "387/387 [==============================] - 1s 2ms/step - loss: 0.4458 - mae: 0.4633 - val_loss: 5.7740 - val_mae: 0.5037\n",
            "Epoch 12/20\n",
            "387/387 [==============================] - 1s 2ms/step - loss: 0.4405 - mae: 0.4615 - val_loss: 4.7241 - val_mae: 0.4895\n",
            "Epoch 13/20\n",
            "387/387 [==============================] - 1s 2ms/step - loss: 0.4309 - mae: 0.4587 - val_loss: 4.3802 - val_mae: 0.4928\n",
            "Epoch 14/20\n",
            "387/387 [==============================] - 1s 2ms/step - loss: 0.4365 - mae: 0.4554 - val_loss: 4.9783 - val_mae: 0.4925\n",
            "Epoch 15/20\n",
            "387/387 [==============================] - 1s 2ms/step - loss: 0.4312 - mae: 0.4539 - val_loss: 5.4822 - val_mae: 0.4952\n",
            "Epoch 16/20\n",
            "387/387 [==============================] - 1s 2ms/step - loss: 0.4371 - mae: 0.4518 - val_loss: 5.9417 - val_mae: 0.5048\n",
            "Epoch 17/20\n",
            "387/387 [==============================] - 1s 2ms/step - loss: 0.4440 - mae: 0.4506 - val_loss: 6.8163 - val_mae: 0.5022\n",
            "Epoch 18/20\n",
            "387/387 [==============================] - 1s 3ms/step - loss: 0.4322 - mae: 0.4488 - val_loss: 7.2478 - val_mae: 0.5017\n",
            "Epoch 19/20\n",
            "387/387 [==============================] - 1s 2ms/step - loss: 0.4475 - mae: 0.4480 - val_loss: 7.3609 - val_mae: 0.4984\n",
            "Epoch 20/20\n",
            "387/387 [==============================] - 1s 2ms/step - loss: 0.4395 - mae: 0.4469 - val_loss: 6.3881 - val_mae: 0.5019\n"
          ]
        }
      ]
    },
    {
      "cell_type": "code",
      "source": [
        ""
      ],
      "metadata": {
        "id": "9UDIefyGnuZD"
      },
      "execution_count": null,
      "outputs": []
    }
  ]
}